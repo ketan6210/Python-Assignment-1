{
 "cells": [
  {
   "cell_type": "code",
   "execution_count": 1,
   "id": "7b67cd2b-2fd9-454a-a29b-2c80bd4c84b5",
   "metadata": {},
   "outputs": [],
   "source": [
    "#Python Assignment "
   ]
  },
  {
   "cell_type": "code",
   "execution_count": 9,
   "id": "ee197b76-0d77-484c-8eb1-5021155643a3",
   "metadata": {},
   "outputs": [
    {
     "data": {
      "text/plain": [
       "\"Q1.Python is a popular programming language for several reasons:\\n\\nEasy to Learn and Use: Python's syntax is simple and clear, making it great for beginners.\\nIts code is readable and concise, helping developers write clean, logical programs.\\n\\nVersatile: Python is a general-purpose language that can be used for a wide range of tasks, \\nfrom web development and data analysis to machine learning, artificial intelligence, and automation.\\n\\nRich Ecosystem: Python has many libraries and frameworks that make it easier to handle various tasks.\\n\\nWorks Everywhere: Python runs on many operating systems, including Windows, macOS, and Linux, so you \\ncan use it on almost any computer without needing to change the code.\\n\\nStrong Community: Python has a large, active community of developers who contribute to its libraries, \\ncreate documentation, and provide support through forums and discussion groups.\""
      ]
     },
     "execution_count": 9,
     "metadata": {},
     "output_type": "execute_result"
    }
   ],
   "source": [
    "\"\"\"Q1.Python is a popular programming language for several reasons:\n",
    "\n",
    "Easy to Learn and Use: Python's syntax is simple and clear, making it great for beginners.\n",
    "Its code is readable and concise, helping developers write clean, logical programs.\n",
    "\n",
    "Versatile: Python is a general-purpose language that can be used for a wide range of tasks, \n",
    "from web development and data analysis to machine learning, artificial intelligence, and automation.\n",
    "\n",
    "Rich Ecosystem: Python has many libraries and frameworks that make it easier to handle various tasks.\n",
    "\n",
    "Works Everywhere: Python runs on many operating systems, including Windows, macOS, and Linux, so you \n",
    "can use it on almost any computer without needing to change the code.\n",
    "\n",
    "Strong Community: Python has a large, active community of developers who contribute to its libraries, \n",
    "create documentation, and provide support through forums and discussion groups.\"\"\"\n",
    "\n",
    "#I learned about the key features of python"
   ]
  },
  {
   "cell_type": "code",
   "execution_count": 25,
   "id": "4f21ed53-398c-42b6-a2c1-4d43fe867bd2",
   "metadata": {},
   "outputs": [
    {
     "name": "stdout",
     "output_type": "stream",
     "text": [
      "True\n",
      "False\n"
     ]
    }
   ],
   "source": [
    "#Q2. Describe the role of predefined keywords in Python and provide examples of how they are used in a program.\n",
    "\"\"\" \n",
    "Predefined keywords in Python are reserved words that have special meanings and purposes in the language.\n",
    "These keywords form the syntax and structure of Python programs. Example are True, False, While, for etc.\"\"\"\n",
    "\n",
    "python= \"programming\"\n",
    "python= \"language\"\n",
    "print(python in \"language\")\n",
    "print(python in \"Java\")\n",
    "\n",
    "\n"
   ]
  },
  {
   "cell_type": "code",
   "execution_count": 36,
   "id": "9c086d0d-21de-48a1-8512-d278fb12e584",
   "metadata": {},
   "outputs": [
    {
     "name": "stdout",
     "output_type": "stream",
     "text": [
      "[1, 2, 3, 'war', 'fire']\n"
     ]
    },
    {
     "ename": "TypeError",
     "evalue": "'tuple' object does not support item assignment",
     "output_type": "error",
     "traceback": [
      "\u001b[1;31m---------------------------------------------------------------------------\u001b[0m",
      "\u001b[1;31mTypeError\u001b[0m                                 Traceback (most recent call last)",
      "Cell \u001b[1;32mIn[36], line 12\u001b[0m\n\u001b[0;32m     10\u001b[0m print(list)\n\u001b[0;32m     11\u001b[0m \n\u001b[1;32m---> 12\u001b[0m tuple=(1,2,3,\"war\",\"zone\")\n\u001b[0;32m     13\u001b[0m tuple[4]=\"fire\"\n\u001b[0;32m     14\u001b[0m print(list)\n",
      "\u001b[1;31mTypeError\u001b[0m: 'tuple' object does not support item assignment"
     ]
    }
   ],
   "source": [
    "#Q3.Compare and contrast mutable and immutable ob\f",
    "jects in Python with examples.\n",
    "\n",
    "\"\"\" mutable objects are objects whoes values can be changed after creating them. For example- List, Dictonary,etc.\n",
    "\n",
    "immutable objects are objects whoes value cannot be changed after creation. for example tuple, string, integer etc.\"\"\"\n",
    "\n",
    "list=[1,2,3,\"war\",\"zone\"]\n",
    "list[4]=\"fire\"\n",
    "print(list)\n",
    "\n",
    "tuple=(1,2,3,\"war\",\"zone\")\n",
    "tuple[4]=\"fire\" #here the error is becuase we cannot alter the value in tuple.\n",
    "print(list) \n",
    "\n"
   ]
  },
  {
   "cell_type": "code",
   "execution_count": 48,
   "id": "2c1fae7c-b8b2-423a-bff7-70211ce1765d",
   "metadata": {},
   "outputs": [
    {
     "name": "stdout",
     "output_type": "stream",
     "text": [
      "5\n",
      "True\n",
      "True\n",
      "False\n"
     ]
    }
   ],
   "source": [
    "# Q.4 Discuss the different types of operators in Python and provide examples of how they are used.\n",
    "\"\"\" the different type of operators are\n",
    " 1. Assignment operator (+, -,*, %, /,**,*)\n",
    " 2. Comparison operator ( ==, <=,=>, !=)\n",
    " 3. Logical operator ( \"and\" \"or\")\n",
    " 4. Bitwise operators ( \"&\", \"\\\")\n",
    " 5. Assignment operator (\"=+,\"-=\",\"*=\") \"\"\"\n",
    "\n",
    "a=2\n",
    "b=3\n",
    "print(a+b) #assignment operator\n",
    "\n",
    "print(a==(b-1)) #comaprison operator\n",
    "\n",
    "a=2\n",
    "b=4\n",
    "c=2\n",
    "d=4\n",
    "\n",
    "print( a==c and b==d)\n",
    "print( a==c & b==d) #logical and bitwise\n",
    "\n",
    "\n",
    "\n",
    "\n",
    " "
   ]
  },
  {
   "cell_type": "code",
   "execution_count": 9,
   "id": "8ae39375-b866-4c4b-96fa-28e2b3aa6395",
   "metadata": {},
   "outputs": [
    {
     "name": "stdout",
     "output_type": "stream",
     "text": [
      "<class 'int'>\n",
      "<class 'list'>\n",
      "<class 'tuple'>\n"
     ]
    }
   ],
   "source": [
    "\"\"\" Q5.Explain the concept of type casting in Python with examples.\n",
    "Type casting in Python refers to the process of converting one data type into another. \"\"\"\n",
    "\n",
    "x=100\n",
    "y=int(x)\n",
    "print(type(y)) #here we typecast string to integer\n",
    "\n",
    "list=[1,2,3]\n",
    "print(type(list))\n",
    "t=tuple(list)\n",
    "print(type(t)) #here we typecaste the list to tuple"
   ]
  },
  {
   "cell_type": "code",
   "execution_count": 11,
   "id": "958026c0-d99b-4ed9-980d-e4d6e1dc3db8",
   "metadata": {},
   "outputs": [
    {
     "name": "stdout",
     "output_type": "stream",
     "text": [
      "you are a kid\n"
     ]
    }
   ],
   "source": [
    "\"\"\"Q6. How do conditional statements work in Python? Illustrate with examples\n",
    "\n",
    "Conditional statements in Python allow you to execute certain blocks of code based \n",
    "on whether a condition is true or false. The most common conditional statements are\n",
    "if, elif, and else. \"\"\"\n",
    "\n",
    "age=7\n",
    "if age ==18:\n",
    "    print(\"you have become an adult\")\n",
    "elif age >18:\n",
    "    print(\"you are an adult\")\n",
    "else:\n",
    "    print(\"you are a kid\")"
   ]
  },
  {
   "cell_type": "code",
   "execution_count": 21,
   "id": "c83f147c-1c14-4819-847f-b0c7cd1e48a9",
   "metadata": {},
   "outputs": [
    {
     "name": "stdout",
     "output_type": "stream",
     "text": [
      "apple\n",
      "mango\n",
      "banana\n",
      "apple mango banana count\n",
      "\n",
      "count\n",
      "\n",
      "count\n",
      "\n",
      "count\n",
      "\n",
      "count\n",
      "\n",
      "count\n",
      "\n",
      "count\n",
      "\n",
      "count\n",
      "\n",
      "count\n",
      "\n",
      "count\n",
      "\n"
     ]
    }
   ],
   "source": [
    "''' Q7.Describe the different types of loops in Python and their use cases with examples\n",
    "\n",
    "In Python, loops are used to repeatedly execute a block of code as long as a specified condition is met. \n",
    "There are two main types of loops in Python:\n",
    "\n",
    "for Loop - to iterate it over and over\n",
    "while Loop - follow specific conditions and execute'''\n",
    "\n",
    "fruit_cart = (\"apple\",\"mango\",\"banana\")\n",
    "for i in fruit_cart:\n",
    "    print(i) #to print one by one\n",
    "\n",
    "fruit_cart = (\"apple\",\"mango\",\"banana\")\n",
    "for i in fruit_cart:\n",
    "    print(i, end=\" \") #to print in same line\n",
    "\n",
    "count=0\n",
    "\n",
    "while count<10: #priting count with given condition \n",
    "    print(\"count\\n\")\n",
    "    count+=1"
   ]
  },
  {
   "cell_type": "code",
   "execution_count": null,
   "id": "fd4bb67a-63d3-49d1-b49c-03d7b8dec801",
   "metadata": {},
   "outputs": [],
   "source": []
  }
 ],
 "metadata": {
  "kernelspec": {
   "display_name": "Python 3 (ipykernel)",
   "language": "python",
   "name": "python3"
  },
  "language_info": {
   "codemirror_mode": {
    "name": "ipython",
    "version": 3
   },
   "file_extension": ".py",
   "mimetype": "text/x-python",
   "name": "python",
   "nbconvert_exporter": "python",
   "pygments_lexer": "ipython3",
   "version": "3.12.4"
  }
 },
 "nbformat": 4,
 "nbformat_minor": 5
}
